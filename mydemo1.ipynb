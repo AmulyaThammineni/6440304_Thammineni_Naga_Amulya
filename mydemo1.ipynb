{
  "nbformat": 4,
  "nbformat_minor": 0,
  "metadata": {
    "colab": {
      "provenance": [],
      "authorship_tag": "ABX9TyME0sNs9vCkx3ZukmkshURJ",
      "include_colab_link": true
    },
    "kernelspec": {
      "name": "python3",
      "display_name": "Python 3"
    },
    "language_info": {
      "name": "python"
    }
  },
  "cells": [
    {
      "cell_type": "markdown",
      "metadata": {
        "id": "view-in-github",
        "colab_type": "text"
      },
      "source": [
        "<a href=\"https://colab.research.google.com/github/AmulyaThammineni/6440304_Thammineni_Naga_Amulya/blob/main/mydemo1.ipynb\" target=\"_parent\"><img src=\"https://colab.research.google.com/assets/colab-badge.svg\" alt=\"Open In Colab\"/></a>"
      ]
    },
    {
      "cell_type": "code",
      "execution_count": null,
      "metadata": {
        "colab": {
          "base_uri": "https://localhost:8080/"
        },
        "id": "kMJVolS5egfm",
        "outputId": "71af3f52-8c30-4e57-8fa9-01598b8aa0fa"
      },
      "outputs": [
        {
          "output_type": "stream",
          "name": "stdout",
          "text": [
            "  Installing build dependencies ... \u001b[?25l\u001b[?25hdone\n",
            "  Getting requirements to build wheel ... \u001b[?25l\u001b[?25hdone\n",
            "  Preparing metadata (pyproject.toml) ... \u001b[?25l\u001b[?25hdone\n",
            "\u001b[2K   \u001b[90m━━━━━━━━━━━━━━━━━━━━━━━━━━━━━━━━━━━━━━━━\u001b[0m \u001b[32m363.4/363.4 MB\u001b[0m \u001b[31m4.2 MB/s\u001b[0m eta \u001b[36m0:00:00\u001b[0m\n",
            "\u001b[2K   \u001b[90m━━━━━━━━━━━━━━━━━━━━━━━━━━━━━━━━━━━━━━━━\u001b[0m \u001b[32m13.8/13.8 MB\u001b[0m \u001b[31m27.8 MB/s\u001b[0m eta \u001b[36m0:00:00\u001b[0m\n",
            "\u001b[2K   \u001b[90m━━━━━━━━━━━━━━━━━━━━━━━━━━━━━━━━━━━━━━━━\u001b[0m \u001b[32m24.6/24.6 MB\u001b[0m \u001b[31m38.1 MB/s\u001b[0m eta \u001b[36m0:00:00\u001b[0m\n",
            "\u001b[2K   \u001b[90m━━━━━━━━━━━━━━━━━━━━━━━━━━━━━━━━━━━━━━━━\u001b[0m \u001b[32m883.7/883.7 kB\u001b[0m \u001b[31m32.0 MB/s\u001b[0m eta \u001b[36m0:00:00\u001b[0m\n",
            "\u001b[2K   \u001b[90m━━━━━━━━━━━━━━━━━━━━━━━━━━━━━━━━━━━━━━━━\u001b[0m \u001b[32m664.8/664.8 MB\u001b[0m \u001b[31m1.3 MB/s\u001b[0m eta \u001b[36m0:00:00\u001b[0m\n",
            "\u001b[2K   \u001b[90m━━━━━━━━━━━━━━━━━━━━━━━━━━━━━━━━━━━━━━━━\u001b[0m \u001b[32m211.5/211.5 MB\u001b[0m \u001b[31m2.1 MB/s\u001b[0m eta \u001b[36m0:00:00\u001b[0m\n",
            "\u001b[2K   \u001b[90m━━━━━━━━━━━━━━━━━━━━━━━━━━━━━━━━━━━━━━━━\u001b[0m \u001b[32m56.3/56.3 MB\u001b[0m \u001b[31m7.5 MB/s\u001b[0m eta \u001b[36m0:00:00\u001b[0m\n",
            "\u001b[2K   \u001b[90m━━━━━━━━━━━━━━━━━━━━━━━━━━━━━━━━━━━━━━━━\u001b[0m \u001b[32m127.9/127.9 MB\u001b[0m \u001b[31m8.6 MB/s\u001b[0m eta \u001b[36m0:00:00\u001b[0m\n",
            "\u001b[2K   \u001b[90m━━━━━━━━━━━━━━━━━━━━━━━━━━━━━━━━━━━━━━━━\u001b[0m \u001b[32m207.5/207.5 MB\u001b[0m \u001b[31m6.9 MB/s\u001b[0m eta \u001b[36m0:00:00\u001b[0m\n",
            "\u001b[2K   \u001b[90m━━━━━━━━━━━━━━━━━━━━━━━━━━━━━━━━━━━━━━━━\u001b[0m \u001b[32m21.1/21.1 MB\u001b[0m \u001b[31m86.3 MB/s\u001b[0m eta \u001b[36m0:00:00\u001b[0m\n",
            "\u001b[2K   \u001b[90m━━━━━━━━━━━━━━━━━━━━━━━━━━━━━━━━━━━━━━━━\u001b[0m \u001b[32m98.2/98.2 kB\u001b[0m \u001b[31m7.2 MB/s\u001b[0m eta \u001b[36m0:00:00\u001b[0m\n",
            "\u001b[?25h  Building wheel for openai-whisper (pyproject.toml) ... \u001b[?25l\u001b[?25hdone\n",
            "Reading package lists... Done\n",
            "Building dependency tree... Done\n",
            "Reading state information... Done\n",
            "ffmpeg is already the newest version (7:4.4.2-0ubuntu0.22.04.1).\n",
            "0 upgraded, 0 newly installed, 0 to remove and 35 not upgraded.\n"
          ]
        }
      ],
      "source": [
        "!pip install gradio transformers torch torchaudio librosa ffmpeg-python moviepy gtts git+https://github.com/openai/whisper.git --quiet\n",
        "!apt-get install ffmpeg -y\n"
      ]
    },
    {
      "cell_type": "code",
      "source": [
        "!pip uninstall -y whisper\n"
      ],
      "metadata": {
        "colab": {
          "base_uri": "https://localhost:8080/"
        },
        "id": "x1nFHTH1kTVr",
        "outputId": "1d435d4f-3da5-49dd-b6e5-4a4ff482d5b2"
      },
      "execution_count": null,
      "outputs": [
        {
          "output_type": "stream",
          "name": "stdout",
          "text": [
            "\u001b[33mWARNING: Skipping whisper as it is not installed.\u001b[0m\u001b[33m\n",
            "\u001b[0m"
          ]
        }
      ]
    },
    {
      "cell_type": "code",
      "source": [
        "!pip install -q git+https://github.com/openai/whisper.git\n"
      ],
      "metadata": {
        "colab": {
          "base_uri": "https://localhost:8080/"
        },
        "id": "mPJyuo5YkWjn",
        "outputId": "630d1f5a-b873-4eef-f535-ff8889c31448"
      },
      "execution_count": null,
      "outputs": [
        {
          "output_type": "stream",
          "name": "stdout",
          "text": [
            "  Installing build dependencies ... \u001b[?25l\u001b[?25hdone\n",
            "  Getting requirements to build wheel ... \u001b[?25l\u001b[?25hdone\n",
            "  Preparing metadata (pyproject.toml) ... \u001b[?25l\u001b[?25hdone\n"
          ]
        }
      ]
    },
    {
      "cell_type": "code",
      "source": [
        "!pip install gTTS"
      ],
      "metadata": {
        "colab": {
          "base_uri": "https://localhost:8080/"
        },
        "id": "KhwI1_owmlGt",
        "outputId": "a7739531-3bcf-4bed-f9e1-88e3cea04264"
      },
      "execution_count": null,
      "outputs": [
        {
          "output_type": "stream",
          "name": "stdout",
          "text": [
            "Requirement already satisfied: gTTS in /usr/local/lib/python3.11/dist-packages (2.5.4)\n",
            "Requirement already satisfied: requests<3,>=2.27 in /usr/local/lib/python3.11/dist-packages (from gTTS) (2.32.3)\n",
            "Requirement already satisfied: click<8.2,>=7.1 in /usr/local/lib/python3.11/dist-packages (from gTTS) (8.1.8)\n",
            "Requirement already satisfied: charset-normalizer<4,>=2 in /usr/local/lib/python3.11/dist-packages (from requests<3,>=2.27->gTTS) (3.4.2)\n",
            "Requirement already satisfied: idna<4,>=2.5 in /usr/local/lib/python3.11/dist-packages (from requests<3,>=2.27->gTTS) (3.10)\n",
            "Requirement already satisfied: urllib3<3,>=1.21.1 in /usr/local/lib/python3.11/dist-packages (from requests<3,>=2.27->gTTS) (2.4.0)\n",
            "Requirement already satisfied: certifi>=2017.4.17 in /usr/local/lib/python3.11/dist-packages (from requests<3,>=2.27->gTTS) (2025.6.15)\n"
          ]
        }
      ]
    },
    {
      "cell_type": "code",
      "source": [
        "from gtts import gTTS\n"
      ],
      "metadata": {
        "id": "3HEqyfy6mjgV"
      },
      "execution_count": null,
      "outputs": []
    },
    {
      "cell_type": "code",
      "source": [
        "pip install pyttsx3"
      ],
      "metadata": {
        "colab": {
          "base_uri": "https://localhost:8080/"
        },
        "id": "aSR7ATV5d729",
        "outputId": "9702b6b9-6329-44e2-d3be-622edf91632f"
      },
      "execution_count": null,
      "outputs": [
        {
          "output_type": "stream",
          "name": "stdout",
          "text": [
            "Collecting pyttsx3\n",
            "  Downloading pyttsx3-2.98-py3-none-any.whl.metadata (3.8 kB)\n",
            "Downloading pyttsx3-2.98-py3-none-any.whl (34 kB)\n",
            "Installing collected packages: pyttsx3\n",
            "Successfully installed pyttsx3-2.98\n"
          ]
        }
      ]
    },
    {
      "cell_type": "code",
      "source": [
        "import os\n",
        "import torch\n",
        "import librosa\n",
        "import whisper\n",
        "import gradio as gr\n",
        "from transformers import AutoTokenizer, AutoModelForMaskedLM\n",
        "from moviepy.editor import VideoFileClip, AudioFileClip\n",
        "import pyttsx3\n"
      ],
      "metadata": {
        "id": "0rq1363IgP3T",
        "colab": {
          "base_uri": "https://localhost:8080/"
        },
        "outputId": "5cf3e198-d3b5-4eb3-c2e2-de5e91b7d773"
      },
      "execution_count": null,
      "outputs": [
        {
          "output_type": "stream",
          "name": "stderr",
          "text": [
            "WARNING:py.warnings:/usr/local/lib/python3.11/dist-packages/moviepy/video/io/sliders.py:61: SyntaxWarning: \"is\" with a literal. Did you mean \"==\"?\n",
            "  if event.key is 'enter':\n",
            "\n"
          ]
        }
      ]
    },
    {
      "cell_type": "code",
      "source": [
        "def extract_audio(video_path, output_audio_path=\"audio.wav\"):\n",
        "    video = VideoFileClip(video_path)\n",
        "    video.audio.write_audiofile(output_audio_path)\n",
        "    return output_audio_path\n"
      ],
      "metadata": {
        "id": "Rl4BNiV6gV3_"
      },
      "execution_count": null,
      "outputs": []
    },
    {
      "cell_type": "code",
      "source": [
        "def detect_silent_parts(audio_path, silence_db=35):\n",
        "    y, sr = librosa.load(audio_path)\n",
        "    intervals = librosa.effects.split(y, top_db=silence_db)\n",
        "\n",
        "    silent_parts = []\n",
        "    last_end = 0\n",
        "    for start, end in intervals:\n",
        "        if start > last_end:\n",
        "            silent_parts.append((last_end / sr, start / sr))\n",
        "        last_end = end\n",
        "    return silent_parts\n"
      ],
      "metadata": {
        "id": "FbcBWThYgYzc"
      },
      "execution_count": null,
      "outputs": []
    },
    {
      "cell_type": "code",
      "source": [
        "def transcribe_audio(audio_path):\n",
        "    model = whisper.load_model(\"base\")\n",
        "    result = model.transcribe(audio_path)\n",
        "    return result[\"text\"]\n"
      ],
      "metadata": {
        "id": "jTEe5mAUga0o"
      },
      "execution_count": null,
      "outputs": []
    },
    {
      "cell_type": "code",
      "source": [
        "def fill_mask(text_with_masks, model_name=\"bert-base-uncased\", top_k=1):\n",
        "    tokenizer = AutoTokenizer.from_pretrained(model_name)\n",
        "    model = AutoModelForMaskedLM.from_pretrained(model_name)\n",
        "\n",
        "    inputs = tokenizer.encode_plus(text_with_masks, return_tensors=\"pt\")\n",
        "    mask_indices = torch.where(inputs[\"input_ids\"] == tokenizer.mask_token_id)[1]\n",
        "\n",
        "    with torch.no_grad():\n",
        "        logits = model(**inputs).logits\n",
        "\n",
        "    for idx in mask_indices:\n",
        "        probs = logits[0, idx]\n",
        "        top_preds = torch.topk(probs, top_k).indices\n",
        "        word = tokenizer.decode(top_preds[0])\n",
        "        text_with_masks = text_with_masks.replace(\"[MASK]\", word.strip(), 1)\n",
        "\n",
        "    return text_with_masks\n"
      ],
      "metadata": {
        "id": "olZaNoGdgc6e"
      },
      "execution_count": null,
      "outputs": []
    },
    {
      "cell_type": "code",
      "source": [
        "def text_to_speech(text, out_path=\"synth_audio.wav\"):\n",
        "    tts = gTTS(text)\n",
        "    tts.save(out_path)\n",
        "    return out_path\n"
      ],
      "metadata": {
        "id": "pKZiGBF3gfc7"
      },
      "execution_count": null,
      "outputs": []
    },
    {
      "cell_type": "code",
      "source": [
        "def combine_audio_video(video_path, audio_path, output_path=\"final_output.mp4\"):\n",
        "    video = VideoFileClip(video_path)\n",
        "    new_audio = AudioFileClip(audio_path)\n",
        "    final = video.set_audio(new_audio)\n",
        "    final.write_videofile(output_path, codec=\"libx264\", audio_codec=\"aac\")\n",
        "    return output_path\n"
      ],
      "metadata": {
        "id": "G2UCIWrfghWo"
      },
      "execution_count": null,
      "outputs": []
    },
    {
      "cell_type": "code",
      "source": [
        "def process_video(video_file):\n",
        "    try:\n",
        "        video_path = video_file.name if hasattr(video_file, \"name\") else video_file\n",
        "\n",
        "        # 1. Extract audio\n",
        "        audio_path = extract_audio(video_path)\n",
        "\n",
        "        # 2. Detect silent parts\n",
        "        silence_segments = detect_silent_parts(audio_path)\n",
        "\n",
        "        # 3. Transcribe\n",
        "        transcript = transcribe_audio(audio_path)\n",
        "\n",
        "        # 4. Add [MASK]s for silence parts\n",
        "        masked_text = transcript + \" \" + \" \".join([\"[MASK]\"] * len(silence_segments))\n",
        "\n",
        "        # 5. Predict missing words\n",
        "        reconstructed_text = fill_mask(masked_text)\n",
        "\n",
        "        # 6. Convert to speech\n",
        "        synth_audio_path = text_to_speech(reconstructed_text)\n",
        "\n",
        "        # 7. Combine with original video\n",
        "        final_video = combine_audio_video(video_path, synth_audio_path)\n",
        "\n",
        "        return final_video, transcript, masked_text, reconstructed_text\n",
        "    except Exception as e:\n",
        "        return None, f\"Error: {str(e)}\", \"Error\", \"Error\"\n"
      ],
      "metadata": {
        "id": "1ahv3cnDgkRo"
      },
      "execution_count": null,
      "outputs": []
    },
    {
      "cell_type": "code",
      "source": [
        "gr.Interface(\n",
        "    fn=process_video,\n",
        "    inputs=gr.Video(label=\"🎥 Upload video with muted parts\"),\n",
        "    outputs=[\n",
        "        gr.Video(label=\"🎬 Reconstructed Video\"),\n",
        "        gr.Textbox(label=\"📝 Original Transcript\"),\n",
        "        gr.Textbox(label=\"🧩 Masked Transcript\"),\n",
        "        gr.Textbox(label=\"✅ Reconstructed Transcript\")\n",
        "    ],\n",
        "    title=\"🔊 AI Video Speech Reconstructor\",\n",
        "    description=\"Upload a muted video. This tool predicts missing speech using BERT and reconstructs it with audio.\",\n",
        "    allow_flagging=\"never\"\n",
        ").launch()\n"
      ],
      "metadata": {
        "colab": {
          "base_uri": "https://localhost:8080/",
          "height": 698
        },
        "id": "gh-Zu1Uwgmj4",
        "outputId": "3681d1d9-a8c2-4d2d-88bc-9113fc0a0c13"
      },
      "execution_count": null,
      "outputs": [
        {
          "output_type": "stream",
          "name": "stderr",
          "text": [
            "WARNING:py.warnings:/usr/local/lib/python3.11/dist-packages/gradio/interface.py:416: UserWarning: The `allow_flagging` parameter in `Interface` is deprecated.Use `flagging_mode` instead.\n",
            "  warnings.warn(\n",
            "\n"
          ]
        },
        {
          "output_type": "stream",
          "name": "stdout",
          "text": [
            "It looks like you are running Gradio on a hosted a Jupyter notebook. For the Gradio app to work, sharing must be enabled. Automatically setting `share=True` (you can turn this off by setting `share=False` in `launch()` explicitly).\n",
            "\n",
            "Colab notebook detected. To show errors in colab notebook, set debug=True in launch()\n",
            "* Running on public URL: https://7b916a7d2500a5bc00.gradio.live\n",
            "\n",
            "This share link expires in 1 week. For free permanent hosting and GPU upgrades, run `gradio deploy` from the terminal in the working directory to deploy to Hugging Face Spaces (https://huggingface.co/spaces)\n"
          ]
        },
        {
          "output_type": "display_data",
          "data": {
            "text/plain": [
              "<IPython.core.display.HTML object>"
            ],
            "text/html": [
              "<div><iframe src=\"https://7b916a7d2500a5bc00.gradio.live\" width=\"100%\" height=\"500\" allow=\"autoplay; camera; microphone; clipboard-read; clipboard-write;\" frameborder=\"0\" allowfullscreen></iframe></div>"
            ]
          },
          "metadata": {}
        },
        {
          "output_type": "execute_result",
          "data": {
            "text/plain": []
          },
          "metadata": {},
          "execution_count": 14
        }
      ]
    }
  ]
}